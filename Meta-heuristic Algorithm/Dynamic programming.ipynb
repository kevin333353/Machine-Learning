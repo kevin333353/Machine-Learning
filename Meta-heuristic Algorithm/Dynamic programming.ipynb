{
 "cells": [
  {
   "cell_type": "code",
   "execution_count": 9,
   "metadata": {},
   "outputs": [],
   "source": [
    "objects_T = 15 #物品總數\n",
    "knapsack_capacity = 750; #背包承受重量\n",
    "\n",
    "objects_weight = [70,73,77,80,82,87,90,94,98,106,   #物品重量\n",
    "                  110,113,115,118,120,];\n",
    "objects_profits = [135,139,149,150,156,163,173,184, #物品價值\n",
    "                   192,201,210,214,221,229,240];\n",
    "\n",
    "\n"
   ]
  },
  {
   "cell_type": "code",
   "execution_count": 10,
   "metadata": {},
   "outputs": [],
   "source": [
    "def bag(objects_T,knapsack_capacity,objects_weight,objects_profits):\n",
    "    res=[[-1 for j in range(knapsack_capacity+1)] for i in range(objects_T+1)]\n",
    "    for j in range(knapsack_capacity+1):        \n",
    "            res[0][j]=0                         #先進行一輪在任何背包可承受重量下，當物品重量以及物品價值都為0時，最大價值為零，用來進行比較\n",
    "    for i in range(1,objects_T+1):              #某1背包可承受重量的條件下，每一種物品都需執行一次\n",
    "        for j in range(1,knapsack_capacity+1):  #每一種背包承受重量都需執行一次\n",
    "                res[i][j]=res[i-1][j]           #先將前一次計算出的最大價值儲存\n",
    "                if j>=objects_weight[i-1] and res[i][j]<res[i-1][j-objects_weight[i-1]]+objects_profits[i-1]:   #當背包可承受重量大於等於物品重量並且本次物品最大價值小於物品承受重量減本次物品重量所對應的最大價值再加上本次物品價值\n",
    "                    res[i][j]=res[i-1][j-objects_weight[i-1]]+objects_profits[i-1]                              #條件成立時將本次最大價值更改為上述所計算出的最大價值\n",
    "    \n",
    "    return res\n",
    "\n",
    "\t\n",
    "\n"
   ]
  },
  {
   "cell_type": "code",
   "execution_count": 11,
   "metadata": {},
   "outputs": [],
   "source": [
    "def show(objects_T,knapsack_capacity,res):\n",
    "\tprint('最大價值為:',res[objects_T][knapsack_capacity])"
   ]
  },
  {
   "cell_type": "code",
   "execution_count": 12,
   "metadata": {},
   "outputs": [
    {
     "name": "stdout",
     "output_type": "stream",
     "text": [
      "最大價值為: 1458\n"
     ]
    }
   ],
   "source": [
    "res = bag(objects_T,knapsack_capacity,objects_weight,objects_profits)\n",
    "show(objects_T,knapsack_capacity,res)"
   ]
  }
 ],
 "metadata": {
  "interpreter": {
   "hash": "e700657700ca3726e7d919db0cb1bdb00b1449743532d1443fbe37ca2c1ec67d"
  },
  "kernelspec": {
   "display_name": "Python 3.7.2 64-bit",
   "language": "python",
   "name": "python3"
  },
  "language_info": {
   "codemirror_mode": {
    "name": "ipython",
    "version": 3
   },
   "file_extension": ".py",
   "mimetype": "text/x-python",
   "name": "python",
   "nbconvert_exporter": "python",
   "pygments_lexer": "ipython3",
   "version": "3.7.2"
  },
  "orig_nbformat": 4
 },
 "nbformat": 4,
 "nbformat_minor": 2
}
