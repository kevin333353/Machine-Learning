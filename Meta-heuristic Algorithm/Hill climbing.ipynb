{
 "cells": [
  {
   "cell_type": "code",
   "execution_count": 38,
   "metadata": {},
   "outputs": [
    {
     "name": "stdout",
     "output_type": "stream",
     "text": [
      "找到最優解: 1451\n",
      "使用方案： [1, 1, 1, 0, 0, 0, 1, 1, 0, 0, 1, 0, 1, 0, 1]\n"
     ]
    },
    {
     "data": {
      "image/png": "[encoded data removed]",
      "text/plain": [
       "<Figure size 432x288 with 1 Axes>"
      ]
     },
     "metadata": {
      "needs_background": "light"
     },
     "output_type": "display_data"
    }
   ],
   "source": [
    "import random\n",
    "import math\n",
    "global m,C;    # m個物品 ,背包容量C\n",
    "\n",
    "global best,T,af;   #best 紀錄全局最優  T 温度  af退火率\n",
    "\n",
    "\n",
    "\n",
    "m=15; T=200.0; af =0.95;\n",
    "\n",
    "best_way=[0]*m;   now_way=[0]*m  #  best_way 記錄全局最優解方案   now_way 紀錄當前解方案  \n",
    "weight=[70,73,77,80,82,87,90,94,98,106, #物品重量\n",
    "                  110,113,115,118,120]; \n",
    "value=[135,139,149,150,156,163,173,184, #物品價值\n",
    "                   192,201,210,214,221,229,240]\n",
    " \n",
    "def cop(a,b,le):     #複製函数 複製b的值\n",
    "    for i in range(le):\n",
    "        \n",
    "        a[i]=b[i]   #複製b的值\n",
    "def calc(x):  #計算背包價值\n",
    "    global C,wsum;\n",
    "    vsum=0;wsum=0;\n",
    "    for i in range(m):\n",
    "        vsum +=x[i]*value[i];  wsum += x[i]*weight[i];    \n",
    "    return  vsum;\n",
    "def produce():  #初始產生隨機解\n",
    "    while (1>0):\n",
    "        for k in range(m):\n",
    "            if(random.random() < 0.5):  now_way[k]=1;\n",
    "            else: now_way[k]=0;\n",
    "        calc(now_way)\n",
    "        if(wsum <C): break;\n",
    "    global best;\n",
    "    best=calc(now_way);\n",
    "    cop(best_way,now_way,m);\n",
    " \n",
    "def init():   #初始化函数\n",
    "    global C,best,T;\n",
    "    C = 750;\n",
    "    best=-1;\n",
    "    produce()    #產生初始解\n",
    "    \n",
    "def get(x):      #隨機將背包中已經存在的物品取出，不存在的物品放入\n",
    "    \n",
    "    \n",
    "    while(1>0):\n",
    "        \n",
    "        if(x[ob]==1): x[ob]=0;break;\n",
    "        elif(x[ob]==0): x[ob]=1;break;\n",
    "        \n",
    "def slove():  #迭代函數\n",
    "    global best,T\n",
    "    \n",
    "    test=[0]*m;\n",
    "    global x ,y\n",
    "    global ob\n",
    "    x = []\n",
    "    y = []  \n",
    "    now = 0;   #當前背包價值\n",
    "    for i in range(500):\n",
    "        x.append(i)            #將1-500加入x陣列作為x軸\n",
    "        y.append(best)         #將每次的最佳解加入y陣列作為y軸\n",
    "        now = calc(now_way);\n",
    "        cop(test,now_way,m);\n",
    "        plt.plot(x,y)\n",
    "        ob = random.randint(0,m-1);\n",
    "        if(test[ob]==1): get(test);test[ob]=0;  #在背包則將其拿出\n",
    "        elif(test[ob]==0):get(test);(test[ob]==1)  #不在背包中則直接加入\n",
    "    \n",
    "        temp= calc(test);\n",
    "        if(wsum>C):continue;    # 非法解則跳過\n",
    "        if(temp > best): best=temp; cop(best_way,test,m);     #更新最優解\n",
    "        \n",
    "        if(temp > now): cop(now_way,test,m);       #直接接受新解 \n",
    "plt.show()         \n",
    "                \n",
    "                \n",
    "    \n",
    "       \n",
    "                \n",
    "#*****************************主函数**********************        \n",
    "init();\n",
    "import matplotlib.pyplot as plt\n",
    "import numpy as np\n",
    "isGood = 0;\n",
    "#i = np.linspace(0,1,500)\n",
    "\n",
    "for i in range(1):\n",
    "   \n",
    "    \n",
    "             #將每次的最佳解加入y陣列作為y軸\n",
    "   \n",
    "    \n",
    "    slove();\n",
    "   \n",
    "    \n",
    "    print('找到最優解:',best); isGood = 1;\n",
    "#plt.plot(x,y)    \n",
    "        \n",
    "\n",
    "\n",
    "  \n",
    "print('使用方案：',best_way);               #打印方案\n",
    "\n",
    "\n"
   ]
  }
 ],
 "metadata": {
  "interpreter": {
   "hash": "e700657700ca3726e7d919db0cb1bdb00b1449743532d1443fbe37ca2c1ec67d"
  },
  "kernelspec": {
   "display_name": "Python 3.7.2 64-bit",
   "language": "python",
   "name": "python3"
  },
  "language_info": {
   "codemirror_mode": {
    "name": "ipython",
    "version": 3
   },
   "file_extension": ".py",
   "mimetype": "text/x-python",
   "name": "python",
   "nbconvert_exporter": "python",
   "pygments_lexer": "ipython3",
   "version": "3.7.2"
  },
  "orig_nbformat": 4
 },
 "nbformat": 4,
 "nbformat_minor": 2
}
