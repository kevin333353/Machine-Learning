{
 "cells": [
  {
   "cell_type": "code",
   "execution_count": 13,
   "metadata": {},
   "outputs": [],
   "source": [
    "from sklearn import datasets\n",
    "from sklearn.model_selection import train_test_split\n",
    "from sklearn.ensemble import RandomForestClassifier\n",
    "from sklearn import metrics\n",
    "import numpy as np\n",
    "import pandas as pd\n",
    "\n",
    "\n",
    "# Path of the file to read\n",
    "train = 'train.csv'\n",
    "test = 'test.csv'\n",
    "\n",
    "train_data = pd.read_csv(train)       #讀取.csv檔\n",
    "test_data = pd.read_csv(test)\n",
    "\n"
   ]
  },
  {
   "cell_type": "code",
   "execution_count": 14,
   "metadata": {},
   "outputs": [],
   "source": [
    "X = train_data[['battery_power','blue','clock_speed','dual_sim','fc',         #定義輸入、輸出訓練資料\n",
    "'four_g','int_memory','m_dep','mobile_wt','n_cores','pc','px_height',\n",
    "'px_width','ram','sc_h','sc_w','talk_time','three_g','touch_screen','wifi']]\n",
    "Y = train_data[['price_range']]                                               \n"
   ]
  },
  {
   "cell_type": "code",
   "execution_count": 15,
   "metadata": {},
   "outputs": [],
   "source": [
    "X_train, X_validation, y_train, y_validation = train_test_split(X, Y,test_size=0.3) #分割訓練集、驗證集\n"
   ]
  },
  {
   "cell_type": "code",
   "execution_count": 16,
   "metadata": {},
   "outputs": [
    {
     "name": "stderr",
     "output_type": "stream",
     "text": [
      "D:\\Python\\Python37\\lib\\site-packages\\ipykernel_launcher.py:2: DataConversionWarning: A column-vector y was passed when a 1d array was expected. Please change the shape of y to (n_samples,), for example using ravel().\n",
      "  \n"
     ]
    },
    {
     "data": {
      "text/plain": [
       "RandomForestClassifier(min_samples_leaf=10, n_jobs=-1, random_state=50)"
      ]
     },
     "execution_count": 16,
     "metadata": {},
     "output_type": "execute_result"
    }
   ],
   "source": [
    "rfc=RandomForestClassifier(n_estimators=100,n_jobs = -1,random_state =50, min_samples_leaf = 10) #選擇隨機森林分類器\n",
    "rfc.fit(X_train,y_train)\n"
   ]
  },
  {
   "cell_type": "code",
   "execution_count": 17,
   "metadata": {},
   "outputs": [
    {
     "data": {
      "text/plain": [
       "array([1, 3, 1, 0, 2, 0, 3, 1, 3, 0, 1, 2, 0, 1, 1, 2, 1, 1, 2, 1, 2, 3,\n",
       "       2, 3, 3, 1, 1, 3, 3, 3, 3, 1, 3, 1, 1, 0, 3, 2, 1, 0, 0, 3, 1, 0,\n",
       "       0, 2, 0, 3, 1, 3, 2, 2, 0, 0, 2, 3, 2, 2, 1, 1, 0, 1, 2, 1, 1, 0,\n",
       "       0, 1, 3, 1, 0, 3, 0, 0, 3, 2, 0, 1, 2, 0, 0, 0, 3, 0, 0, 1, 3, 1,\n",
       "       0, 2, 2, 2, 2, 1, 2, 2, 3, 0, 3, 3, 0, 3, 3, 0, 3, 1, 0, 3, 2, 0,\n",
       "       1, 0, 0, 1, 0, 1, 0, 0, 2, 2, 1, 0, 0, 1, 3, 2, 3, 2, 3, 3, 0, 2,\n",
       "       2, 1, 2, 2, 0, 3, 3, 2, 0, 3, 2, 3, 0, 3, 3, 0, 3, 1, 1, 3, 1, 0,\n",
       "       0, 1, 0, 1, 1, 0, 0, 3, 3, 0, 0, 3, 1, 3, 2, 3, 3, 1, 2, 0, 2, 3,\n",
       "       3, 3, 0, 3, 2, 2, 3, 0, 1, 3, 0, 1, 3, 2, 0, 0, 3, 2, 3, 0, 2, 2,\n",
       "       2, 1, 3, 3, 1, 0, 0, 3, 3, 3, 0, 1, 1, 3, 2, 3, 0, 2, 2, 0, 0, 2,\n",
       "       2, 3, 1, 2, 2, 1, 0, 1, 2, 0, 3, 2, 1, 2, 2, 1, 2, 0, 1, 3, 2, 2,\n",
       "       3, 2, 0, 1, 3, 1, 2, 3, 2, 3, 2, 0, 1, 3, 2, 1, 0, 3, 1, 2, 0, 3,\n",
       "       0, 1, 3, 1, 0, 1, 3, 1, 2, 0, 0, 0, 1, 2, 0, 1, 2, 3, 1, 0, 1, 3,\n",
       "       0, 3, 1, 3, 0, 3, 2, 1, 2, 1, 2, 3, 0, 3, 1, 1, 0, 3, 3, 2, 2, 1,\n",
       "       0, 3, 1, 1, 0, 0, 3, 2, 2, 3, 1, 2, 1, 0, 0, 0, 1, 2, 1, 1, 3, 2,\n",
       "       0, 2, 3, 0, 1, 1, 3, 3, 3, 3, 1, 0, 1, 0, 3, 3, 3, 3, 0, 0, 1, 2,\n",
       "       0, 2, 1, 3, 3, 0, 2, 2, 3, 2, 1, 2, 0, 1, 0, 0, 3, 2, 3, 2, 1, 1,\n",
       "       1, 1, 1, 2, 0, 0, 2, 3, 0, 1, 2, 0, 0, 3, 1, 1, 2, 3, 1, 1, 3, 1,\n",
       "       1, 3, 3, 3, 0, 3, 2, 0, 1, 0, 1, 1, 3, 2, 0, 2, 3, 1, 0, 2, 2, 2,\n",
       "       0, 1, 1, 3, 0, 3, 1, 0, 0, 1, 3, 0, 0, 2, 1, 0, 2, 2, 1, 2, 0, 2,\n",
       "       0, 3, 2, 1, 2, 3, 0, 0, 0, 2, 2, 1, 3, 2, 3, 3, 1, 2, 0, 3, 3, 2,\n",
       "       2, 3, 2, 1, 2, 2, 1, 0, 0, 1, 1, 2, 0, 1, 1, 0, 1, 3, 1, 0, 3, 3,\n",
       "       2, 0, 1, 1, 1, 1, 0, 3, 1, 2, 1, 1, 3, 2, 3, 3, 0, 0, 1, 0, 2, 1,\n",
       "       2, 0, 1, 2, 1, 1, 2, 2, 3, 3, 0, 2, 3, 2, 2, 1, 2, 1, 0, 1, 1, 1,\n",
       "       1, 3, 3, 1, 0, 3, 3, 0, 1, 1, 3, 0, 1, 3, 2, 2, 3, 3, 1, 3, 2, 3,\n",
       "       3, 2, 2, 0, 1, 3, 1, 1, 3, 2, 0, 1, 1, 3, 0, 3, 3, 1, 1, 1, 2, 1,\n",
       "       1, 2, 2, 0, 3, 1, 0, 3, 2, 0, 1, 1, 3, 2, 3, 2, 2, 1, 3, 0, 1, 0,\n",
       "       2, 0, 3, 1, 1, 0], dtype=int64)"
      ]
     },
     "execution_count": 17,
     "metadata": {},
     "output_type": "execute_result"
    }
   ],
   "source": [
    "y_pre = rfc.predict(X_validation)#驗證模型好不好\n",
    "y_pre"
   ]
  },
  {
   "cell_type": "code",
   "execution_count": 18,
   "metadata": {},
   "outputs": [
    {
     "data": {
      "text/plain": [
       "0.9557142857142857"
      ]
     },
     "execution_count": 18,
     "metadata": {},
     "output_type": "execute_result"
    }
   ],
   "source": [
    "rfc.score(X_train,y_train) #準確度分析"
   ]
  },
  {
   "cell_type": "code",
   "execution_count": 19,
   "metadata": {},
   "outputs": [
    {
     "data": {
      "text/plain": [
       "0.8666666666666667"
      ]
     },
     "execution_count": 19,
     "metadata": {},
     "output_type": "execute_result"
    }
   ],
   "source": [
    "rfc.score(X_validation,y_validation)#準確度分析"
   ]
  },
  {
   "cell_type": "code",
   "execution_count": 20,
   "metadata": {},
   "outputs": [
    {
     "data": {
      "text/plain": [
       "array([[140,  11,   0,   0],\n",
       "       [  6, 125,  20,   0],\n",
       "       [  0,  26, 114,  13],\n",
       "       [  0,   0,   4, 141]], dtype=int64)"
      ]
     },
     "execution_count": 20,
     "metadata": {},
     "output_type": "execute_result"
    }
   ],
   "source": [
    "rfc_matrics = metrics.confusion_matrix(y_validation,y_pre) #(真實值，預測值) 混淆矩陣\n",
    "rfc_matrics "
   ]
  },
  {
   "cell_type": "code",
   "execution_count": 21,
   "metadata": {},
   "outputs": [
    {
     "name": "stdout",
     "output_type": "stream",
     "text": [
      "Accuracy: 0.8666666666666667\n",
      "Precision: [0.95890411 0.77160494 0.82608696 0.91558442]\n",
      "Recall: [0.92715232 0.82781457 0.74509804 0.97241379]\n",
      "F1_score: [0.94276094 0.79872204 0.78350515 0.94314381]\n"
     ]
    }
   ],
   "source": [
    "from sklearn.metrics import precision_recall_fscore_support\n",
    "print(\"Accuracy:\",metrics.accuracy_score(y_validation, y_pre))#準確率\n",
    "print(\"Precision:\",metrics.precision_score(y_validation,y_pre,average=None))#精準度\n",
    "print(\"Recall:\",metrics.recall_score(y_validation,y_pre,average=None))#召回率\n",
    "print(\"F1_score:\",metrics.f1_score(y_validation,y_pre,average=None))#F1-score "
   ]
  },
  {
   "cell_type": "code",
   "execution_count": 22,
   "metadata": {},
   "outputs": [
    {
     "data": {
      "text/plain": [
       "(array([0.95890411, 0.77160494, 0.82608696, 0.91558442]),\n",
       " array([0.92715232, 0.82781457, 0.74509804, 0.97241379]),\n",
       " array([0.94276094, 0.79872204, 0.78350515, 0.94314381]),\n",
       " array([151, 151, 153, 145], dtype=int64))"
      ]
     },
     "execution_count": 22,
     "metadata": {},
     "output_type": "execute_result"
    }
   ],
   "source": [
    "precision_recall_fscore_support(y_validation,y_pre,average=None) #support"
   ]
  },
  {
   "cell_type": "code",
   "execution_count": 23,
   "metadata": {},
   "outputs": [],
   "source": [
    "X_test = test_data[['battery_power','blue','clock_speed','dual_sim','fc',\n",
    "'four_g','int_memory','m_dep','mobile_wt','n_cores','pc','px_height',\n",
    "'px_width','ram','sc_h','sc_w','talk_time','three_g','touch_screen','wifi']]"
   ]
  },
  {
   "cell_type": "code",
   "execution_count": 24,
   "metadata": {},
   "outputs": [
    {
     "data": {
      "text/plain": [
       "array([2, 3, 2, 3, 1, 3, 3, 1, 3, 0, 3, 3, 0, 0, 2, 0, 1, 2, 3, 2, 1, 3,\n",
       "       1, 1, 3, 0, 2, 0, 2, 0, 2, 0, 3, 0, 1, 1, 3, 1, 2, 1, 1, 2, 0, 0,\n",
       "       0, 1, 0, 3, 1, 2, 2, 0, 3, 0, 3, 0, 3, 1, 1, 3, 3, 2, 0, 1, 1, 1,\n",
       "       1, 3, 1, 1, 1, 1, 2, 3, 3, 0, 2, 0, 2, 3, 0, 3, 3, 0, 3, 0, 3, 1,\n",
       "       3, 0, 1, 1, 2, 1, 2, 1, 0, 2, 1, 3, 1, 0, 0, 3, 1, 2, 1, 1, 2, 3,\n",
       "       3, 3, 1, 3, 3, 3, 3, 1, 3, 0, 0, 3, 2, 1, 1, 0, 3, 2, 3, 1, 0, 1,\n",
       "       1, 1, 3, 1, 1, 0, 3, 2, 1, 3, 2, 2, 2, 3, 3, 2, 2, 3, 2, 3, 0, 0,\n",
       "       2, 2, 3, 3, 3, 3, 3, 2, 3, 3, 3, 3, 1, 0, 3, 0, 0, 0, 1, 1, 0, 1,\n",
       "       0, 0, 1, 2, 0, 0, 0, 1, 2, 2, 2, 1, 0, 0, 0, 1, 0, 3, 1, 0, 2, 2,\n",
       "       3, 3, 1, 2, 3, 3, 3, 1, 2, 1, 0, 1, 1, 3, 1, 3, 3, 3, 0, 2, 0, 3,\n",
       "       2, 2, 3, 0, 0, 1, 0, 3, 0, 1, 0, 2, 1, 1, 3, 0, 2, 0, 3, 1, 2, 0,\n",
       "       0, 2, 1, 3, 3, 3, 1, 1, 3, 0, 0, 2, 3, 3, 1, 3, 1, 1, 3, 2, 1, 2,\n",
       "       3, 3, 3, 1, 0, 1, 1, 3, 1, 1, 3, 2, 0, 3, 0, 1, 2, 0, 0, 3, 2, 3,\n",
       "       3, 2, 1, 3, 3, 2, 3, 2, 2, 1, 1, 0, 2, 3, 1, 0, 1, 3, 0, 3, 0, 1,\n",
       "       1, 0, 2, 3, 1, 3, 1, 2, 1, 3, 0, 0, 0, 1, 3, 2, 0, 0, 0, 3, 1, 0,\n",
       "       3, 3, 1, 2, 3, 2, 3, 1, 3, 3, 2, 2, 2, 3, 3, 1, 3, 0, 3, 1, 3, 1,\n",
       "       2, 3, 0, 1, 1, 3, 1, 3, 1, 3, 0, 0, 0, 0, 2, 0, 0, 2, 1, 1, 1, 3,\n",
       "       2, 0, 1, 0, 0, 3, 2, 0, 3, 1, 2, 2, 1, 2, 3, 1, 1, 2, 2, 1, 2, 0,\n",
       "       1, 1, 0, 3, 2, 1, 0, 2, 0, 0, 1, 0, 0, 0, 0, 2, 2, 3, 2, 3, 0, 2,\n",
       "       1, 3, 0, 1, 1, 1, 2, 0, 3, 2, 3, 3, 1, 3, 1, 3, 1, 2, 2, 1, 2, 2,\n",
       "       1, 1, 0, 0, 0, 1, 2, 1, 0, 3, 2, 1, 2, 3, 0, 0, 3, 1, 1, 0, 3, 3,\n",
       "       3, 0, 3, 0, 2, 3, 3, 3, 0, 2, 0, 2, 3, 0, 1, 1, 0, 0, 1, 1, 2, 3,\n",
       "       3, 3, 2, 3, 1, 1, 2, 3, 3, 3, 1, 0, 2, 2, 2, 2, 1, 0, 2, 3, 0, 1,\n",
       "       0, 3, 1, 0, 2, 2, 2, 0, 3, 1, 2, 2, 0, 3, 0, 2, 3, 0, 2, 1, 3, 3,\n",
       "       1, 1, 2, 3, 2, 0, 3, 1, 2, 0, 3, 3, 1, 3, 2, 2, 3, 0, 1, 2, 3, 1,\n",
       "       3, 2, 3, 1, 1, 0, 0, 3, 1, 0, 3, 2, 3, 1, 0, 3, 3, 3, 2, 3, 3, 1,\n",
       "       2, 1, 2, 3, 3, 1, 0, 1, 1, 1, 2, 1, 0, 0, 2, 2, 3, 2, 0, 2, 1, 3,\n",
       "       3, 0, 1, 3, 1, 2, 1, 0, 0, 0, 2, 1, 0, 1, 1, 2, 2, 0, 2, 2, 1, 0,\n",
       "       3, 0, 0, 3, 2, 0, 0, 0, 0, 0, 3, 0, 3, 0, 3, 2, 1, 3, 2, 0, 1, 1,\n",
       "       3, 2, 2, 1, 0, 3, 0, 2, 0, 2, 0, 0, 1, 1, 1, 2, 1, 3, 1, 3, 2, 1,\n",
       "       1, 3, 2, 0, 1, 2, 0, 3, 3, 0, 2, 1, 1, 2, 0, 3, 2, 0, 2, 2, 3, 0,\n",
       "       0, 3, 0, 2, 2, 3, 2, 1, 1, 3, 1, 1, 3, 0, 1, 1, 2, 2, 1, 0, 0, 1,\n",
       "       0, 0, 3, 0, 1, 1, 0, 1, 1, 0, 3, 0, 3, 2, 3, 0, 0, 1, 2, 2, 1, 0,\n",
       "       1, 1, 0, 1, 2, 0, 0, 3, 3, 0, 3, 1, 2, 3, 0, 1, 0, 1, 2, 0, 3, 1,\n",
       "       0, 3, 0, 1, 0, 3, 3, 3, 2, 3, 0, 3, 2, 0, 1, 0, 3, 3, 2, 0, 2, 1,\n",
       "       3, 1, 0, 3, 2, 0, 3, 1, 1, 1, 1, 1, 3, 1, 2, 1, 3, 0, 0, 1, 2, 0,\n",
       "       2, 0, 0, 0, 0, 3, 3, 3, 3, 0, 1, 2, 2, 1, 0, 0, 3, 1, 0, 2, 0, 2,\n",
       "       3, 2, 2, 2, 0, 2, 1, 3, 0, 0, 3, 1, 3, 0, 0, 2, 3, 3, 1, 3, 2, 1,\n",
       "       0, 0, 2, 3, 1, 3, 0, 0, 0, 2, 2, 1, 3, 0, 3, 2, 1, 2, 3, 3, 0, 1,\n",
       "       1, 2, 0, 2, 2, 0, 1, 3, 1, 1, 3, 1, 2, 3, 1, 1, 1, 2, 3, 3, 0, 3,\n",
       "       3, 0, 2, 3, 2, 2, 2, 3, 2, 0, 1, 2, 0, 2, 1, 1, 1, 2, 2, 1, 2, 0,\n",
       "       0, 1, 3, 1, 0, 1, 1, 3, 1, 0, 0, 3, 2, 2, 3, 0, 3, 3, 2, 1, 3, 0,\n",
       "       1, 3, 1, 2, 1, 2, 2, 2, 0, 3, 0, 2, 3, 0, 3, 1, 3, 3, 1, 1, 2, 3,\n",
       "       1, 0, 1, 1, 2, 1, 2, 0, 2, 2, 0, 2, 3, 2, 3, 0, 2, 1, 1, 1, 2, 3,\n",
       "       3, 0, 2, 2, 2, 1, 3, 0, 1, 2, 0, 1, 0, 0, 3, 2, 2, 0, 0, 0, 0, 3,\n",
       "       2, 3, 3, 0, 0, 2, 1, 0, 2, 2], dtype=int64)"
      ]
     },
     "execution_count": 24,
     "metadata": {},
     "output_type": "execute_result"
    }
   ],
   "source": [
    "Y_test = rfc.predict(X_test)#預測\n",
    "Y_test"
   ]
  }
 ],
 "metadata": {
  "interpreter": {
   "hash": "e700657700ca3726e7d919db0cb1bdb00b1449743532d1443fbe37ca2c1ec67d"
  },
  "kernelspec": {
   "display_name": "Python 3.7.2 64-bit",
   "language": "python",
   "name": "python3"
  },
  "language_info": {
   "codemirror_mode": {
    "name": "ipython",
    "version": 3
   },
   "file_extension": ".py",
   "mimetype": "text/x-python",
   "name": "python",
   "nbconvert_exporter": "python",
   "pygments_lexer": "ipython3",
   "version": "3.7.2"
  },
  "orig_nbformat": 4
 },
 "nbformat": 4,
 "nbformat_minor": 2
}
