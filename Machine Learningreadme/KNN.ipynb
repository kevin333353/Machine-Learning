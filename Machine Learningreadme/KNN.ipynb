{
 "cells": [
  {
   "cell_type": "code",
   "execution_count": 25,
   "metadata": {},
   "outputs": [],
   "source": [
    "from sklearn import datasets\n",
    "from sklearn.model_selection import train_test_split\n",
    "from sklearn.neighbors import KNeighborsClassifier\n",
    "from sklearn import metrics\n",
    "import numpy as np\n",
    "import pandas as pd\n",
    "import matplotlib.pyplot as plt\n",
    "\n",
    "# Path of the file to read\n",
    "train = 'train.csv'\n",
    "test = 'test.csv'\n",
    "\n",
    "train_data = pd.read_csv(train)       #讀取.csv檔\n",
    "test_data = pd.read_csv(test)\n",
    "\n"
   ]
  },
  {
   "cell_type": "code",
   "execution_count": 26,
   "metadata": {},
   "outputs": [],
   "source": [
    "X = train_data[['battery_power','blue','clock_speed','dual_sim','fc',         #定義輸入、輸出訓練資料\n",
    "'four_g','int_memory','m_dep','mobile_wt','n_cores','pc','px_height',\n",
    "'px_width','ram','sc_h','sc_w','talk_time','three_g','touch_screen','wifi']]\n",
    "Y = train_data[['price_range']]                                               \n"
   ]
  },
  {
   "cell_type": "code",
   "execution_count": 27,
   "metadata": {},
   "outputs": [],
   "source": [
    "X_train, X_validation, y_train, y_validation = train_test_split(X, Y,test_size=0.2,random_state=20) #分割訓練集、驗證集"
   ]
  },
  {
   "cell_type": "code",
   "execution_count": 28,
   "metadata": {},
   "outputs": [
    {
     "name": "stderr",
     "output_type": "stream",
     "text": [
      "D:\\Python\\Python37\\lib\\site-packages\\sklearn\\neighbors\\_classification.py:198: DataConversionWarning: A column-vector y was passed when a 1d array was expected. Please change the shape of y to (n_samples,), for example using ravel().\n",
      "  return self._fit(X, y)\n"
     ]
    },
    {
     "data": {
      "text/plain": [
       "KNeighborsClassifier(algorithm='brute', n_neighbors=3, weights='distance')"
      ]
     },
     "execution_count": 28,
     "metadata": {},
     "output_type": "execute_result"
    }
   ],
   "source": [
    "knn = KNeighborsClassifier(n_neighbors=3,p=2,weights='distance',algorithm='brute')\n",
    "knn.fit(X_train,y_train)"
   ]
  },
  {
   "cell_type": "code",
   "execution_count": 29,
   "metadata": {},
   "outputs": [
    {
     "data": {
      "text/plain": [
       "array([3, 2, 1, 1, 3, 2, 2, 1, 3, 2, 0, 2, 3, 2, 3, 2, 2, 1, 2, 3, 3, 3,\n",
       "       0, 0, 3, 2, 3, 1, 3, 0, 3, 2, 0, 2, 0, 0, 3, 0, 2, 0, 2, 3, 3, 1,\n",
       "       0, 2, 1, 1, 3, 1, 3, 0, 1, 1, 1, 0, 3, 1, 1, 3, 3, 0, 2, 1, 1, 3,\n",
       "       1, 2, 0, 1, 1, 3, 3, 0, 0, 2, 0, 0, 2, 0, 1, 1, 2, 2, 0, 0, 2, 2,\n",
       "       3, 0, 3, 2, 1, 0, 0, 0, 1, 1, 1, 1, 1, 1, 1, 2, 3, 2, 1, 2, 2, 2,\n",
       "       1, 2, 2, 1, 3, 3, 3, 0, 3, 1, 2, 0, 1, 0, 2, 3, 0, 2, 1, 0, 2, 0,\n",
       "       0, 1, 1, 1, 3, 2, 2, 2, 1, 2, 2, 1, 0, 1, 3, 1, 2, 0, 2, 0, 2, 0,\n",
       "       3, 3, 2, 2, 1, 2, 0, 0, 3, 3, 2, 2, 2, 2, 3, 3, 1, 2, 2, 1, 1, 3,\n",
       "       1, 2, 0, 3, 1, 1, 2, 1, 1, 0, 2, 1, 0, 3, 2, 3, 1, 3, 2, 2, 1, 2,\n",
       "       3, 1, 0, 1, 1, 1, 2, 1, 2, 3, 3, 0, 3, 3, 1, 3, 0, 0, 2, 2, 2, 3,\n",
       "       1, 0, 2, 2, 3, 0, 3, 1, 2, 1, 0, 1, 1, 2, 1, 3, 0, 1, 3, 0, 2, 1,\n",
       "       1, 2, 3, 0, 0, 1, 0, 2, 1, 2, 3, 0, 2, 3, 1, 3, 1, 0, 1, 3, 2, 0,\n",
       "       1, 1, 1, 1, 1, 3, 0, 1, 2, 0, 3, 3, 3, 3, 3, 3, 2, 0, 3, 0, 0, 0,\n",
       "       1, 3, 2, 2, 3, 3, 3, 1, 1, 3, 1, 1, 2, 2, 3, 1, 0, 1, 3, 3, 2, 0,\n",
       "       0, 1, 3, 1, 0, 0, 0, 2, 0, 3, 2, 2, 3, 0, 2, 3, 1, 0, 0, 2, 2, 1,\n",
       "       3, 1, 3, 3, 1, 3, 3, 3, 3, 3, 0, 0, 1, 0, 2, 0, 3, 2, 0, 1, 1, 1,\n",
       "       3, 0, 3, 2, 1, 2, 0, 3, 0, 2, 2, 1, 1, 2, 2, 1, 0, 2, 2, 2, 2, 0,\n",
       "       3, 0, 0, 3, 0, 1, 3, 3, 3, 2, 1, 2, 2, 0, 0, 2, 0, 3, 3, 3, 2, 3,\n",
       "       2, 3, 2, 3], dtype=int64)"
      ]
     },
     "execution_count": 29,
     "metadata": {},
     "output_type": "execute_result"
    }
   ],
   "source": [
    "y_pre = knn.predict(X_validation)#驗證模型好不好\n",
    "y_pre"
   ]
  },
  {
   "cell_type": "code",
   "execution_count": 30,
   "metadata": {},
   "outputs": [
    {
     "data": {
      "text/plain": [
       "1.0"
      ]
     },
     "execution_count": 30,
     "metadata": {},
     "output_type": "execute_result"
    }
   ],
   "source": [
    "knn.score(X_train,y_train) #準確度分析"
   ]
  },
  {
   "cell_type": "code",
   "execution_count": 31,
   "metadata": {},
   "outputs": [
    {
     "data": {
      "text/plain": [
       "0.915"
      ]
     },
     "execution_count": 31,
     "metadata": {},
     "output_type": "execute_result"
    }
   ],
   "source": [
    "knn.score(X_validation,y_validation)#準確度分析"
   ]
  },
  {
   "cell_type": "code",
   "execution_count": 32,
   "metadata": {},
   "outputs": [
    {
     "data": {
      "text/plain": [
       "array([[83,  5,  0,  0],\n",
       "       [ 5, 90,  3,  0],\n",
       "       [ 0,  8, 98,  8],\n",
       "       [ 0,  0,  5, 95]], dtype=int64)"
      ]
     },
     "execution_count": 32,
     "metadata": {},
     "output_type": "execute_result"
    }
   ],
   "source": [
    "knn_matrics = metrics.confusion_matrix(y_validation,y_pre) #(真實值，預測值) 混淆矩陣\n",
    "knn_matrics "
   ]
  },
  {
   "cell_type": "code",
   "execution_count": 33,
   "metadata": {},
   "outputs": [
    {
     "name": "stdout",
     "output_type": "stream",
     "text": [
      "Accuracy: 0.915\n",
      "Precision: [0.94318182 0.87378641 0.9245283  0.9223301 ]\n",
      "Recall: [0.94318182 0.91836735 0.85964912 0.95      ]\n",
      "F1_score: [0.94318182 0.89552239 0.89090909 0.93596059]\n"
     ]
    }
   ],
   "source": [
    "from sklearn.metrics import precision_recall_fscore_support\n",
    "print(\"Accuracy:\",metrics.accuracy_score(y_validation, y_pre))#準確率\n",
    "print(\"Precision:\",metrics.precision_score(y_validation,y_pre,average=None))#精準度\n",
    "print(\"Recall:\",metrics.recall_score(y_validation,y_pre,average=None))#召回率\n",
    "print(\"F1_score:\",metrics.f1_score(y_validation,y_pre,average=None))#F1-score "
   ]
  },
  {
   "cell_type": "code",
   "execution_count": 34,
   "metadata": {},
   "outputs": [
    {
     "data": {
      "text/plain": [
       "(array([0.94318182, 0.87378641, 0.9245283 , 0.9223301 ]),\n",
       " array([0.94318182, 0.91836735, 0.85964912, 0.95      ]),\n",
       " array([0.94318182, 0.89552239, 0.89090909, 0.93596059]),\n",
       " array([ 88,  98, 114, 100], dtype=int64))"
      ]
     },
     "execution_count": 34,
     "metadata": {},
     "output_type": "execute_result"
    }
   ],
   "source": [
    "precision_recall_fscore_support(y_validation,y_pre,average=None) #support"
   ]
  },
  {
   "cell_type": "code",
   "execution_count": 35,
   "metadata": {},
   "outputs": [],
   "source": [
    "X_test = test_data[['battery_power','blue','clock_speed','dual_sim','fc',\n",
    "'four_g','int_memory','m_dep','mobile_wt','n_cores','pc','px_height',\n",
    "'px_width','ram','sc_h','sc_w','talk_time','three_g','touch_screen','wifi']]"
   ]
  },
  {
   "cell_type": "code",
   "execution_count": 36,
   "metadata": {},
   "outputs": [
    {
     "data": {
      "text/plain": [
       "array([3, 3, 3, 3, 1, 3, 3, 1, 3, 0, 3, 3, 0, 0, 2, 0, 2, 1, 3, 2, 1, 3,\n",
       "       1, 1, 3, 0, 2, 0, 3, 0, 2, 0, 3, 0, 0, 1, 3, 1, 2, 1, 1, 2, 0, 0,\n",
       "       0, 1, 0, 3, 1, 2, 1, 0, 3, 0, 3, 1, 3, 1, 1, 3, 3, 2, 0, 2, 1, 1,\n",
       "       1, 3, 1, 2, 1, 2, 2, 3, 3, 0, 2, 0, 2, 3, 0, 3, 3, 0, 3, 0, 3, 1,\n",
       "       2, 0, 1, 2, 2, 0, 2, 2, 1, 2, 1, 2, 1, 0, 0, 3, 0, 2, 0, 1, 2, 3,\n",
       "       3, 3, 1, 3, 3, 3, 3, 2, 3, 0, 0, 3, 2, 1, 2, 0, 3, 2, 3, 1, 0, 2,\n",
       "       1, 1, 3, 1, 1, 0, 3, 2, 1, 2, 1, 3, 2, 3, 3, 3, 2, 3, 2, 3, 0, 0,\n",
       "       3, 2, 3, 3, 3, 3, 2, 2, 3, 3, 3, 3, 1, 0, 3, 0, 0, 0, 2, 1, 0, 1,\n",
       "       0, 0, 1, 2, 1, 0, 0, 1, 1, 2, 2, 1, 0, 0, 0, 1, 1, 3, 1, 0, 2, 2,\n",
       "       3, 3, 1, 1, 2, 2, 3, 2, 2, 1, 1, 0, 1, 2, 0, 2, 3, 3, 0, 2, 0, 3,\n",
       "       2, 2, 3, 1, 0, 1, 0, 3, 0, 1, 0, 2, 2, 1, 2, 0, 3, 0, 3, 1, 2, 0,\n",
       "       0, 2, 1, 3, 3, 3, 1, 1, 3, 0, 0, 2, 3, 3, 1, 3, 1, 1, 3, 2, 1, 2,\n",
       "       3, 3, 3, 1, 0, 0, 2, 3, 2, 1, 3, 2, 0, 3, 0, 1, 2, 1, 0, 3, 2, 3,\n",
       "       3, 2, 1, 3, 3, 2, 3, 1, 2, 1, 2, 0, 2, 3, 1, 0, 0, 3, 0, 3, 0, 1,\n",
       "       2, 0, 2, 3, 1, 3, 2, 2, 0, 2, 0, 0, 0, 1, 3, 2, 0, 0, 0, 3, 2, 0,\n",
       "       2, 3, 1, 2, 2, 2, 3, 1, 3, 3, 1, 2, 2, 3, 3, 0, 3, 1, 3, 1, 3, 1,\n",
       "       2, 3, 0, 1, 0, 3, 1, 3, 2, 3, 0, 0, 0, 0, 2, 0, 0, 2, 2, 1, 2, 2,\n",
       "       2, 0, 1, 0, 0, 3, 2, 0, 3, 1, 2, 2, 1, 2, 3, 1, 1, 2, 2, 1, 2, 0,\n",
       "       1, 1, 0, 3, 2, 1, 0, 1, 0, 0, 1, 1, 0, 1, 0, 2, 2, 3, 1, 3, 0, 3,\n",
       "       0, 3, 0, 1, 1, 1, 1, 0, 3, 2, 3, 3, 1, 3, 1, 3, 1, 3, 2, 0, 1, 2,\n",
       "       1, 1, 0, 0, 0, 1, 2, 1, 0, 3, 2, 0, 2, 2, 0, 0, 3, 1, 2, 1, 3, 3,\n",
       "       3, 0, 3, 0, 2, 3, 3, 3, 0, 2, 0, 2, 2, 0, 2, 2, 0, 0, 1, 1, 1, 3,\n",
       "       3, 3, 2, 3, 1, 2, 2, 2, 3, 3, 1, 0, 2, 1, 2, 2, 1, 0, 2, 2, 0, 0,\n",
       "       0, 3, 1, 0, 2, 2, 2, 0, 3, 0, 2, 2, 0, 3, 0, 2, 3, 0, 1, 1, 3, 3,\n",
       "       1, 1, 1, 3, 2, 0, 2, 1, 2, 0, 3, 3, 1, 2, 2, 2, 3, 0, 1, 2, 3, 1,\n",
       "       3, 2, 3, 1, 1, 1, 0, 3, 1, 0, 3, 2, 3, 3, 0, 3, 3, 3, 2, 3, 3, 1,\n",
       "       2, 1, 2, 2, 3, 1, 0, 1, 1, 2, 2, 1, 0, 0, 2, 2, 3, 2, 0, 2, 1, 3,\n",
       "       3, 0, 1, 3, 0, 2, 0, 1, 0, 0, 2, 1, 0, 1, 1, 2, 2, 0, 2, 2, 1, 0,\n",
       "       3, 0, 0, 3, 2, 0, 0, 0, 0, 0, 3, 0, 3, 1, 3, 2, 1, 3, 3, 0, 1, 0,\n",
       "       3, 1, 3, 2, 0, 3, 0, 2, 0, 2, 0, 0, 1, 1, 1, 2, 1, 3, 1, 3, 2, 2,\n",
       "       1, 3, 2, 0, 1, 2, 0, 3, 3, 0, 2, 1, 1, 2, 0, 3, 2, 0, 3, 2, 3, 0,\n",
       "       0, 3, 0, 2, 2, 3, 2, 2, 2, 3, 1, 2, 3, 0, 1, 1, 1, 2, 2, 0, 0, 1,\n",
       "       0, 0, 3, 0, 1, 2, 0, 0, 1, 1, 3, 0, 3, 2, 3, 0, 0, 1, 2, 1, 1, 0,\n",
       "       1, 2, 0, 1, 1, 0, 1, 3, 3, 0, 3, 1, 2, 3, 0, 1, 0, 2, 2, 0, 3, 1,\n",
       "       0, 3, 1, 1, 0, 3, 3, 3, 2, 3, 0, 3, 2, 0, 0, 0, 3, 3, 2, 0, 2, 1,\n",
       "       3, 0, 0, 3, 2, 0, 3, 1, 2, 1, 1, 2, 3, 1, 1, 1, 2, 0, 0, 2, 2, 0,\n",
       "       2, 0, 0, 0, 0, 3, 3, 3, 3, 0, 1, 2, 1, 1, 0, 0, 2, 1, 0, 2, 0, 3,\n",
       "       2, 2, 1, 2, 0, 2, 1, 3, 0, 0, 3, 2, 3, 0, 0, 2, 3, 3, 1, 3, 2, 1,\n",
       "       0, 0, 2, 3, 0, 3, 0, 0, 0, 2, 2, 1, 2, 0, 3, 3, 1, 2, 3, 3, 0, 1,\n",
       "       1, 2, 1, 2, 2, 0, 1, 3, 1, 1, 3, 0, 2, 3, 2, 1, 1, 1, 3, 3, 0, 2,\n",
       "       2, 0, 2, 3, 3, 2, 2, 3, 2, 0, 1, 2, 1, 2, 1, 1, 2, 2, 2, 1, 2, 1,\n",
       "       1, 1, 3, 1, 0, 1, 2, 3, 1, 0, 0, 3, 2, 2, 3, 0, 3, 3, 2, 1, 3, 0,\n",
       "       1, 3, 1, 2, 1, 1, 3, 2, 0, 3, 0, 2, 3, 0, 3, 1, 2, 3, 1, 0, 2, 3,\n",
       "       1, 0, 2, 1, 2, 1, 3, 0, 3, 3, 0, 2, 3, 2, 3, 0, 2, 1, 1, 2, 2, 3,\n",
       "       3, 0, 2, 1, 2, 1, 3, 0, 1, 3, 0, 1, 0, 0, 3, 3, 2, 0, 0, 0, 0, 3,\n",
       "       2, 3, 3, 0, 0, 2, 1, 0, 2, 2], dtype=int64)"
      ]
     },
     "execution_count": 36,
     "metadata": {},
     "output_type": "execute_result"
    }
   ],
   "source": [
    "Y_test = knn.predict(X_test)#預測\n",
    "Y_test"
   ]
  }
 ],
 "metadata": {
  "interpreter": {
   "hash": "e700657700ca3726e7d919db0cb1bdb00b1449743532d1443fbe37ca2c1ec67d"
  },
  "kernelspec": {
   "display_name": "Python 3.7.2 64-bit",
   "language": "python",
   "name": "python3"
  },
  "language_info": {
   "codemirror_mode": {
    "name": "ipython",
    "version": 3
   },
   "file_extension": ".py",
   "mimetype": "text/x-python",
   "name": "python",
   "nbconvert_exporter": "python",
   "pygments_lexer": "ipython3",
   "version": "3.7.2"
  },
  "orig_nbformat": 4
 },
 "nbformat": 4,
 "nbformat_minor": 2
}
