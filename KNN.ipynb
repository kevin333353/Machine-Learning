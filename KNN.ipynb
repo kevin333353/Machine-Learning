{
 "cells": [
  {
   "cell_type": "code",
   "execution_count": 4,
   "metadata": {},
   "outputs": [],
   "source": [
    "from sklearn import datasets\n",
    "from sklearn.model_selection import train_test_split\n",
    "from sklearn.neighbors import KNeighborsClassifier\n",
    "import numpy as np\n",
    "import pandas as pd\n",
    "\n",
    "# Path of the file to read\n",
    "train = 'train.csv'\n",
    "test = 'test.csv'\n",
    "\n",
    "train_data = pd.read_csv(train)       #讀取.csv檔\n",
    "test_data = pd.read_csv(test)\n",
    "\n"
   ]
  },
  {
   "cell_type": "code",
   "execution_count": 5,
   "metadata": {},
   "outputs": [],
   "source": [
    "X = train_data[['battery_power','blue','clock_speed','dual_sim','fc',         #定義輸入、輸出訓練資料\n",
    "'four_g','int_memory','m_dep','mobile_wt','n_cores','pc','px_height',\n",
    "'px_width','ram','sc_h','sc_w','talk_time','three_g','touch_screen','wifi']]\n",
    "Y = train_data[['price_range']]                                               \n"
   ]
  },
  {
   "cell_type": "code",
   "execution_count": 6,
   "metadata": {},
   "outputs": [],
   "source": [
    "X_train, X_validation, y_train, y_validation = train_test_split(X, Y,test_size=0.2,random_state=20) #分割訓練集、驗證集"
   ]
  },
  {
   "cell_type": "code",
   "execution_count": 7,
   "metadata": {},
   "outputs": [
    {
     "name": "stderr",
     "output_type": "stream",
     "text": [
      "D:\\Python\\Python37\\lib\\site-packages\\sklearn\\neighbors\\_classification.py:198: DataConversionWarning: A column-vector y was passed when a 1d array was expected. Please change the shape of y to (n_samples,), for example using ravel().\n",
      "  return self._fit(X, y)\n"
     ]
    },
    {
     "data": {
      "text/plain": [
       "KNeighborsClassifier()"
      ]
     },
     "execution_count": 7,
     "metadata": {},
     "output_type": "execute_result"
    }
   ],
   "source": [
    "knn = KNeighborsClassifier()\n",
    "knn.fit(X_train,y_train)"
   ]
  },
  {
   "cell_type": "code",
   "execution_count": 10,
   "metadata": {},
   "outputs": [
    {
     "data": {
      "text/plain": [
       "array([3, 2, 1, 1, 3, 2, 2, 1, 3, 2, 0, 2, 3, 2, 3, 2, 2, 1, 2, 3, 3, 3,\n",
       "       0, 0, 3, 2, 3, 1, 3, 0, 3, 2, 0, 2, 0, 0, 3, 0, 2, 0, 2, 3, 3, 1,\n",
       "       0, 2, 1, 1, 3, 1, 3, 0, 1, 1, 1, 0, 3, 1, 1, 3, 3, 0, 2, 1, 1, 2,\n",
       "       1, 2, 0, 1, 1, 3, 3, 0, 0, 2, 0, 0, 2, 0, 1, 1, 2, 2, 0, 0, 2, 2,\n",
       "       3, 0, 3, 2, 1, 0, 0, 0, 1, 1, 1, 1, 1, 1, 1, 2, 3, 2, 1, 2, 2, 2,\n",
       "       0, 2, 2, 1, 3, 3, 3, 0, 3, 1, 2, 0, 1, 0, 2, 3, 0, 2, 1, 0, 2, 0,\n",
       "       0, 1, 1, 1, 3, 2, 2, 2, 1, 3, 2, 1, 0, 1, 3, 1, 2, 0, 2, 0, 2, 0,\n",
       "       3, 3, 2, 2, 1, 2, 0, 0, 3, 3, 2, 2, 2, 2, 3, 3, 1, 2, 2, 1, 1, 3,\n",
       "       1, 2, 0, 3, 1, 1, 2, 1, 0, 0, 2, 1, 0, 3, 2, 3, 1, 3, 2, 2, 1, 2,\n",
       "       3, 2, 1, 1, 1, 1, 2, 1, 2, 3, 3, 0, 3, 3, 1, 2, 0, 0, 2, 2, 2, 3,\n",
       "       1, 0, 2, 2, 3, 0, 3, 1, 2, 1, 0, 1, 0, 2, 1, 3, 0, 1, 3, 0, 2, 1,\n",
       "       1, 2, 3, 0, 0, 1, 0, 2, 1, 2, 3, 0, 2, 3, 1, 3, 1, 0, 1, 3, 1, 0,\n",
       "       1, 1, 1, 1, 1, 3, 0, 1, 2, 0, 3, 3, 3, 3, 3, 3, 2, 0, 3, 0, 1, 0,\n",
       "       1, 3, 2, 2, 3, 3, 3, 1, 1, 3, 1, 1, 1, 2, 3, 1, 0, 1, 3, 3, 3, 0,\n",
       "       0, 1, 3, 1, 0, 0, 0, 2, 0, 3, 2, 2, 3, 0, 2, 3, 1, 0, 0, 2, 2, 2,\n",
       "       3, 1, 3, 3, 1, 3, 3, 3, 3, 3, 0, 0, 1, 0, 2, 0, 3, 2, 0, 1, 1, 1,\n",
       "       3, 0, 3, 2, 1, 2, 0, 3, 0, 2, 2, 1, 1, 2, 2, 1, 0, 2, 2, 2, 2, 0,\n",
       "       3, 0, 0, 3, 0, 1, 3, 3, 3, 3, 2, 2, 2, 0, 0, 2, 0, 3, 3, 3, 2, 3,\n",
       "       2, 3, 2, 3], dtype=int64)"
      ]
     },
     "execution_count": 10,
     "metadata": {},
     "output_type": "execute_result"
    }
   ],
   "source": [
    "y_pre = knn.predict(X_validation)#驗證模型好不好\n",
    "y_pre"
   ]
  },
  {
   "cell_type": "code",
   "execution_count": 11,
   "metadata": {},
   "outputs": [
    {
     "data": {
      "text/plain": [
       "0.961875"
      ]
     },
     "execution_count": 11,
     "metadata": {},
     "output_type": "execute_result"
    }
   ],
   "source": [
    "knn.score(X_train,y_train) #準確度分析"
   ]
  },
  {
   "cell_type": "code",
   "execution_count": 12,
   "metadata": {},
   "outputs": [
    {
     "data": {
      "text/plain": [
       "0.9225"
      ]
     },
     "execution_count": 12,
     "metadata": {},
     "output_type": "execute_result"
    }
   ],
   "source": [
    "knn.score(X_validation,y_validation)#準確度分析"
   ]
  }
 ],
 "metadata": {
  "interpreter": {
   "hash": "e700657700ca3726e7d919db0cb1bdb00b1449743532d1443fbe37ca2c1ec67d"
  },
  "kernelspec": {
   "display_name": "Python 3.7.2 64-bit",
   "language": "python",
   "name": "python3"
  },
  "language_info": {
   "codemirror_mode": {
    "name": "ipython",
    "version": 3
   },
   "file_extension": ".py",
   "mimetype": "text/x-python",
   "name": "python",
   "nbconvert_exporter": "python",
   "pygments_lexer": "ipython3",
   "version": "3.7.2"
  },
  "orig_nbformat": 4
 },
 "nbformat": 4,
 "nbformat_minor": 2
}
